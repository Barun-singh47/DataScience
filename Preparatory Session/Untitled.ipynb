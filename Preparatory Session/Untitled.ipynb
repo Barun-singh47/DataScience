{
 "cells": [
  {
   "cell_type": "code",
   "execution_count": 2,
   "id": "dcf0d38c",
   "metadata": {},
   "outputs": [
    {
     "name": "stdout",
     "output_type": "stream",
     "text": [
      "Barun Kumar Singh\n"
     ]
    }
   ],
   "source": [
    "print(\"Barun Kumar Singh\")"
   ]
  },
  {
   "cell_type": "code",
   "execution_count": 1,
   "id": "e23ba949",
   "metadata": {},
   "outputs": [
    {
     "name": "stdout",
     "output_type": "stream",
     "text": [
      "Hello Data Science\n"
     ]
    }
   ],
   "source": [
    "print(\"Hello Data Science\")"
   ]
  },
  {
   "cell_type": "code",
   "execution_count": null,
   "id": "fb5e31d5",
   "metadata": {},
   "outputs": [],
   "source": [
    "To add a cell above current cell Esc+A\n",
    "To add a cell below current cell Esc+B\n",
    "Delte a cell Esc+D+D"
   ]
  }
 ],
 "metadata": {
  "kernelspec": {
   "display_name": "Python 3 (ipykernel)",
   "language": "python",
   "name": "python3"
  },
  "language_info": {
   "codemirror_mode": {
    "name": "ipython",
    "version": 3
   },
   "file_extension": ".py",
   "mimetype": "text/x-python",
   "name": "python",
   "nbconvert_exporter": "python",
   "pygments_lexer": "ipython3",
   "version": "3.11.4"
  }
 },
 "nbformat": 4,
 "nbformat_minor": 5
}
